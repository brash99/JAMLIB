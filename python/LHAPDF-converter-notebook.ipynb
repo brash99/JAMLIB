{
 "cells": [
  {
   "cell_type": "code",
   "execution_count": 109,
   "metadata": {
    "collapsed": false
   },
   "outputs": [],
   "source": [
    "import sys,os\n",
    "import numpy as np\n",
    "import pylab as py\n",
    "# from corelib_AA import JAMLIB"
   ]
  },
  {
   "cell_type": "code",
   "execution_count": 124,
   "metadata": {
    "collapsed": false
   },
   "outputs": [],
   "source": [
    "import sys,os\n",
    "import numpy as np\n",
    "import cPickle\n",
    "from scipy.interpolate import RectBivariateSpline\n",
    "from tools import load,BAR,logo\n",
    " \n",
    "class JAMLIB(object):\n",
    "  \n",
    "  def __init__(self,path):\n",
    "    logo()\n",
    "    self.setup_alphaS(order='NLO')\n",
    "    self.load_tables(path)\n",
    "\n",
    "  # alphaS\n",
    "\n",
    "  def setup_alphaS(self,order='NLO'):\n",
    "\n",
    "    if   order=='LO':  self.order=0\n",
    "    elif order=='NLO': self.order=1\n",
    "\n",
    "    self.aZ  = 0.118 /(4*np.pi)\n",
    "    self.mc2 = 1.43**2        \n",
    "    self.mb2 = 4.3**2\n",
    "    self.mZ2 = 91.187**2\n",
    "    self.mt2 = 172.9**2\n",
    "\n",
    "    self.beta=np.zeros((7,3))\n",
    "    for Nf in range(3,7): \n",
    "      self.beta[Nf,0]=11.0-2.0/3.0*Nf \n",
    "      self.beta[Nf,1]=102.-38.0/3.0*Nf \n",
    "      self.beta[Nf,2]=2857.0/2.0-5033.0/18.0*Nf+325.0/54.0*Nf**2 \n",
    "\n",
    "    self.Q20=1.0\n",
    "    # uses alphaS(mZ)--> backwards evolution\n",
    "    self.ab=self.evolve_a(self.mZ2,self.aZ,self.mb2,5)\n",
    "    self.at=self.evolve_a(self.mZ2,self.aZ,self.mt2,5)\n",
    "    self.ac=self.evolve_a(self.mb2,self.ab,self.mc2,4)\n",
    "    self.a0=self.evolve_a(self.mc2,self.ac,self.Q20,3)\n",
    "\n",
    "    # we will store all Q2 values of alphaS \n",
    "    self.storage={}\n",
    "\n",
    "  def get_Nf(self,Q2):\n",
    "    Nf=3\n",
    "    if Q2>=(4.*self.mc2): Nf+=1\n",
    "    if Q2>=(4.*self.mb2): Nf+=1\n",
    "    if Q2>=(4.*self.mt2): Nf+=1\n",
    "    return Nf\n",
    "\n",
    "  def beta_func(self,a,Nf):\n",
    "    betaf = -self.beta[Nf,0]\n",
    "    if self.order>=1: betaf+=-a*self.beta[Nf,1]\n",
    "    if self.order>=2: betaf+=-a*self.beta[Nf,2]\n",
    "    return betaf*a**2\n",
    "\n",
    "  def evolve_a(self,Q20,a,Q2,Nf):\n",
    "    # Runge-Kutta implemented in pegasus  \n",
    "    LR = np.log(Q2/Q20)/20.0\n",
    "    for k in range(20):\n",
    "      XK0 = LR * self.beta_func(a,Nf)\n",
    "      XK1 = LR * self.beta_func(a + 0.5 * XK0,Nf)\n",
    "      XK2 = LR * self.beta_func(a + 0.5 * XK1,Nf)\n",
    "      XK3 = LR * self.beta_func(a + XK2,Nf)\n",
    "      a+= (XK0 + 2.* XK1 + 2.* XK2 + XK3) * 0.166666666666666\n",
    "    return a\n",
    "\n",
    "  def get_a(self,Q2):\n",
    "\n",
    "    if Q2 in self.storage:\n",
    "      return self.storage[Q2]\n",
    "    else:\n",
    "      if self.mt2<=Q2:\n",
    "        Q20,a0,Nf=self.mt2,self.at,6\n",
    "      elif self.mb2<=Q2 and Q2<self.mt2: \n",
    "        Q20,a0,Nf=self.mb2,self.ab,5\n",
    "      elif self.mc2<=Q2 and Q2<self.mb2: \n",
    "        Q20,a0,Nf=self.mc2,self.ac,4\n",
    "      elif Q2<self.mc2:\n",
    "        Q20,a0,Nf=self.mc2,self.ac,3\n",
    "      a=self.evolve_a(Q20,a0,Q2,Nf)\n",
    "      self.storage[Q2]=a\n",
    "      return a\n",
    "\n",
    "  def get_alphaS(self,Q2):\n",
    "    return self.get_a(Q2)*4*np.pi\n",
    "\n",
    "  # interpolation for xF\n",
    "\n",
    "  def load_tables(self,path):\n",
    "    TAB=[]\n",
    "    F=os.listdir(path)\n",
    "    self.npos=len(F)\n",
    "    bar=BAR('loading tables',len(F))\n",
    "    for f in F:\n",
    "      tab=load('%s/%s'%(path,f)) \n",
    "      X=tab['X']\n",
    "      Q2=tab['Q2']\n",
    "      for k in tab:\n",
    "        if k=='X' or k=='Q2': continue\n",
    "        for kk in tab[k]:\n",
    "          tab[k][kk]=RectBivariateSpline(X,Q2,tab[k][kk])\n",
    "      TAB.append(tab)\n",
    "      bar.next()\n",
    "    bar.finish()\n",
    "    self.TAB=TAB\n",
    "    self.Xgrid = X\n",
    "    self.Q2grid = Q2\n",
    "\n",
    "  def get_XF(self,ipos,dist,flav,x,Q2):\n",
    "    return self.TAB[ipos][dist][flav](x,Q2)[0,0]\n",
    "\n",
    "  def get_Xgrid(self):\n",
    "    return self.Xgrid\n",
    "\n",
    "  def get_Q2grid(self):\n",
    "    return self.Q2grid"
   ]
  },
  {
   "cell_type": "code",
   "execution_count": 197,
   "metadata": {
    "collapsed": false,
    "scrolled": true
   },
   "outputs": [
    {
     "name": "stdout",
     "output_type": "stream",
     "text": [
      " ################################################ \n",
      "                                                 \n",
      "     _   _    __  __ _     ___ ____              \n",
      "    | | / \\  |  \\/  | |   |_ _| __ )             \n",
      " _  | |/ _ \\ | |\\/| | |    | ||  _ \\             \n",
      "| |_| / ___ \\| |  | | |___ | || |_) |            \n",
      " \\___/_/   \\_\\_|  |_|_____|___|____/             \n",
      "                                                 \n",
      "~~~~~~~~~~~~~~~~~~~~~~~~~~~~~~~~~~~~~~~~~~~~~~~  \n",
      "                                                 \n",
      "Authors:                                         \n",
      "Nobuo Sato   nsato@jlab.org                      \n",
      "Jake Ethier                                      \n",
      "Wally Melnitchouk                                \n",
      "Alberto Accardi                                  \n",
      "################################################ \n",
      "loading tables [99%]\n"
     ]
    }
   ],
   "source": [
    "jamFF=JAMLIB('FFpions')"
   ]
  },
  {
   "cell_type": "code",
   "execution_count": 196,
   "metadata": {
    "collapsed": false
   },
   "outputs": [
    {
     "name": "stdout",
     "output_type": "stream",
     "text": [
      "alphaS     =  0.24654958796\n",
      "num pos    =  200\n",
      "xF(ipos=0) = "
     ]
    },
    {
     "ename": "KeyError",
     "evalue": "'FFpion'",
     "output_type": "error",
     "traceback": [
      "\u001b[0;31m---------------------------------------------------------------------------\u001b[0m",
      "\u001b[0;31mKeyError\u001b[0m                                  Traceback (most recent call last)",
      "\u001b[0;32m<ipython-input-196-e3fbd6ed0bc2>\u001b[0m in \u001b[0;36m<module>\u001b[0;34m()\u001b[0m\n\u001b[1;32m      3\u001b[0m \u001b[0;32mprint\u001b[0m \u001b[0;34m'alphaS     = '\u001b[0m\u001b[0;34m,\u001b[0m\u001b[0mjamFF\u001b[0m\u001b[0;34m.\u001b[0m\u001b[0mget_alphaS\u001b[0m\u001b[0;34m(\u001b[0m\u001b[0mQ2\u001b[0m\u001b[0;34m)\u001b[0m\u001b[0;34m\u001b[0m\u001b[0m\n\u001b[1;32m      4\u001b[0m \u001b[0;32mprint\u001b[0m \u001b[0;34m'num pos    = '\u001b[0m\u001b[0;34m,\u001b[0m\u001b[0mjamFF\u001b[0m\u001b[0;34m.\u001b[0m\u001b[0mnpos\u001b[0m\u001b[0;34m\u001b[0m\u001b[0m\n\u001b[0;32m----> 5\u001b[0;31m \u001b[0;32mprint\u001b[0m \u001b[0;34m'xF(ipos=0) = '\u001b[0m\u001b[0;34m,\u001b[0m\u001b[0mjamFF\u001b[0m\u001b[0;34m.\u001b[0m\u001b[0mget_XF\u001b[0m\u001b[0;34m(\u001b[0m\u001b[0;36m0\u001b[0m\u001b[0;34m,\u001b[0m\u001b[0;34m'FFpion'\u001b[0m\u001b[0;34m,\u001b[0m\u001b[0;34m'up'\u001b[0m\u001b[0;34m,\u001b[0m\u001b[0mx\u001b[0m\u001b[0;34m,\u001b[0m\u001b[0mQ2\u001b[0m\u001b[0;34m)\u001b[0m\u001b[0;34m\u001b[0m\u001b[0m\n\u001b[0m\u001b[1;32m      6\u001b[0m \u001b[0;34m\u001b[0m\u001b[0m\n\u001b[1;32m      7\u001b[0m \u001b[0mXmin\u001b[0m \u001b[0;34m=\u001b[0m \u001b[0mnp\u001b[0m\u001b[0;34m.\u001b[0m\u001b[0mmin\u001b[0m\u001b[0;34m(\u001b[0m\u001b[0mjamFF\u001b[0m\u001b[0;34m.\u001b[0m\u001b[0mget_Xgrid\u001b[0m\u001b[0;34m(\u001b[0m\u001b[0;34m)\u001b[0m\u001b[0;34m)\u001b[0m\u001b[0;34m\u001b[0m\u001b[0m\n",
      "\u001b[0;32m<ipython-input-124-fb7eb46f7827>\u001b[0m in \u001b[0;36mget_XF\u001b[0;34m(self, ipos, dist, flav, x, Q2)\u001b[0m\n\u001b[1;32m    108\u001b[0m \u001b[0;34m\u001b[0m\u001b[0m\n\u001b[1;32m    109\u001b[0m   \u001b[0;32mdef\u001b[0m \u001b[0mget_XF\u001b[0m\u001b[0;34m(\u001b[0m\u001b[0mself\u001b[0m\u001b[0;34m,\u001b[0m\u001b[0mipos\u001b[0m\u001b[0;34m,\u001b[0m\u001b[0mdist\u001b[0m\u001b[0;34m,\u001b[0m\u001b[0mflav\u001b[0m\u001b[0;34m,\u001b[0m\u001b[0mx\u001b[0m\u001b[0;34m,\u001b[0m\u001b[0mQ2\u001b[0m\u001b[0;34m)\u001b[0m\u001b[0;34m:\u001b[0m\u001b[0;34m\u001b[0m\u001b[0m\n\u001b[0;32m--> 110\u001b[0;31m     \u001b[0;32mreturn\u001b[0m \u001b[0mself\u001b[0m\u001b[0;34m.\u001b[0m\u001b[0mTAB\u001b[0m\u001b[0;34m[\u001b[0m\u001b[0mipos\u001b[0m\u001b[0;34m]\u001b[0m\u001b[0;34m[\u001b[0m\u001b[0mdist\u001b[0m\u001b[0;34m]\u001b[0m\u001b[0;34m[\u001b[0m\u001b[0mflav\u001b[0m\u001b[0;34m]\u001b[0m\u001b[0;34m(\u001b[0m\u001b[0mx\u001b[0m\u001b[0;34m,\u001b[0m\u001b[0mQ2\u001b[0m\u001b[0;34m)\u001b[0m\u001b[0;34m[\u001b[0m\u001b[0;36m0\u001b[0m\u001b[0;34m,\u001b[0m\u001b[0;36m0\u001b[0m\u001b[0;34m]\u001b[0m\u001b[0;34m\u001b[0m\u001b[0m\n\u001b[0m\u001b[1;32m    111\u001b[0m \u001b[0;34m\u001b[0m\u001b[0m\n\u001b[1;32m    112\u001b[0m   \u001b[0;32mdef\u001b[0m \u001b[0mget_Xgrid\u001b[0m\u001b[0;34m(\u001b[0m\u001b[0mself\u001b[0m\u001b[0;34m)\u001b[0m\u001b[0;34m:\u001b[0m\u001b[0;34m\u001b[0m\u001b[0m\n",
      "\u001b[0;31mKeyError\u001b[0m: 'FFpion'"
     ]
    }
   ],
   "source": [
    "x,Q2=0.5,10.0\n",
    "\n",
    "print 'alphaS     = ',jamFF.get_alphaS(Q2)\n",
    "print 'num pos    = ',jamFF.npos\n",
    "print 'xF(ipos=0) = ',jamFF.get_XF(0,'FFpion','up',x,Q2)\n",
    "\n",
    "Xmin = np.min(jamFF.get_Xgrid())\n",
    "Xmax = np.max(jamFF.get_Xgrid())\n",
    "print 'Xmin,Xmax: ', xmin,xmax\n",
    "\n",
    "Q2min = np.min(jamFF.get_Q2grid())\n",
    "Q2max = np.max(jamFF.get_Q2grid())\n",
    "print 'Q2min,Q2max: ', Q2min,Q2max"
   ]
  },
  {
   "cell_type": "markdown",
   "metadata": {},
   "source": [
    "## Info file"
   ]
  },
  {
   "cell_type": "code",
   "execution_count": 173,
   "metadata": {
    "collapsed": false
   },
   "outputs": [],
   "source": [
    "# Information for .info file headers\n",
    "desc = 'JAMFF16 pion fragmentation functions. \\\n",
    "alphas(MZ)=0.118. mem=0 => average of posteriors; mem=1-200 => FF posteriors.'\n",
    "auth = \"[JAM collaboration] Sato N, Ethier J J, Melnitchouk W, Hirai M, Kumano S, Accardi A\"\n",
    "ref = \"arXiv:1609.xxxx - e-mail accardi@jlab.org / sato@jlab.org\"\n",
    "index = 16000\n",
    "    # particle=hadron to which the PDFs belong, see\n",
    "    # http://pdg.lbl.gov/2015/reviews/rpp2015-rev-monte-carlo-numbering.pdf\n",
    "    # For protons, neutrons, use format ±n nr nL nq1 nq2 nq3 nJ\n",
    "    # E.g, proton = 2212 (u; u; d; spin 1/2 --> nJ=2*s+1)\n",
    "    # For nuclei, use LZZZAAAI, see point 14 in PDG standard:\n",
    "    # L nonzero is for hypernuclei, I represent isomer levels with\n",
    "    # I = 0 the ground state, and Z and A should be self-explanatory.\n",
    "hadron = 2212  #  2212=proton\n",
    "\n",
    "errortype = 'MC'    # MC = Monte Carlo method --> nsamples = no. of posteriors\n",
    "nsamples = 200      # HESSIAN = Hessian --> nsamples = no. free parameters\n",
    "cl = 68.3           # confidence level\n",
    "\n",
    "# Collects info from JAM fits\n",
    "xgrid = jamFF.get_Xgrid()\n",
    "xmin = np.min(xgrid)\n",
    "xmax = np.max(xgrid)\n",
    "Qgrid = jamFF.get_Q2grid()**0.5\n",
    "Qmin = np.min(Qgrid)\n",
    "Qmax = np.max(Qgrid)\n",
    "mu = 0.\n",
    "md = 0.\n",
    "ms = 0.1\n",
    "mc = 1.34\n",
    "mb = 4.5\n",
    "mt = 180.0"
   ]
  },
  {
   "cell_type": "code",
   "execution_count": 192,
   "metadata": {
    "collapsed": false
   },
   "outputs": [
    {
     "name": "stdout",
     "output_type": "stream",
     "text": [
      "SetDesc: JAMFF16 pion fragmentation functions. alphas(MZ)=0.118. mem=0 => average of posteriors; mem=1-200 => FF posteriors.\n",
      "SetIndex: 16000\n",
      "Authors: [JAM collaboration] Sato N, Ethier J J, Melnitchouk W, Hirai M, Kumano S, Accardi A\n",
      "Reference: arXiv:1609.xxxx - e-mail accardi@jlab.org / sato@jlab.org\n",
      "Format: lhagrid1\n",
      "DataVersion: -1\n",
      "Particle: 2212\n",
      "Flavors: [-5, -4, -3, -2, -1, 1, 2, 3, 4, 5, 21]\n",
      "OrderQCD: 1\n",
      "ForcePositive: 1\n",
      "FlavorScheme: variable\n",
      "NumFlavors: 5\n",
      "NumMembers: 201\n",
      "ErrorType: replicas\n",
      "ErrorConfLevel: 68.300000\n",
      "XMin: 1.000000e-06\n",
      "XMax: 1.000000e+00\n",
      "QMin: 1.000000e+00\n",
      "QMax: 3.162278e+02\n",
      "MZ: 8315.178394\n",
      "MUp: 0.000000\n",
      "MDown: 0.000000\n",
      "MStrange: 0.100000\n",
      "MCharm: 1.340000\n",
      "MBottom: 4.500000\n",
      "MTop: 180.000000\n",
      "AlphaS_MZ: 0.118000\n",
      "AlphaS_OrderQCD: 1.000000\n",
      "AlphaS_Type: ipol\n",
      "[  1.00000000e+00   3.44924138e+03   6.89748276e+03   1.03457241e+04\n",
      "   1.37939655e+04   1.72422069e+04   2.06904483e+04   2.41386897e+04\n",
      "   2.75869310e+04   3.10351724e+04   3.44834138e+04   3.79316552e+04\n",
      "   4.13798966e+04   4.48281379e+04   4.82763793e+04   5.17246207e+04\n",
      "   5.51728621e+04   5.86211034e+04   6.20693448e+04   6.55175862e+04\n",
      "   6.89658276e+04   7.24140690e+04   7.58623103e+04   7.93105517e+04\n",
      "   8.27587931e+04   8.62070345e+04   8.96552759e+04   9.31035172e+04\n",
      "   9.65517586e+04   1.00000000e+05]\n",
      "AlphaS_Qs: [1.0, 58.730242459148265, 83.05108523445487, 101.7139328604053, 117.44771397196872, 131.30958417629583, 143.84174733317892, 155.3663079794728, 166.0931396370204, 176.16802324426845, 185.69710227438506, 194.76050721954326, 203.42049196608528, 211.7265640656232, 219.71886425690636, 227.43047440845564, 234.88904203679985, 242.11795358518106, 249.13720081028882, 255.9640330337381, 262.6134565977282, 269.0986231208129, 275.4311353947256, 281.62129131892357, 287.6782805556379, 293.6103446453456, 299.4249085531612, 305.12868963992764, 310.727788620023, 316.22776601683796]\n",
      "AlphaS_Vals: [0.44929401107997652, 0.12639926955145592, 0.11968733495235434, 0.11608811764598366, 0.11366561727974167, 0.11185650688074802, 0.11042142107681883, 0.10923707335943017, 0.10823190449451395, 0.10738744670245542, 0.10669374518282618, 0.10607400584244833, 0.10551457424976612, 0.10500520941428346, 0.10453804044422309, 0.10410689218263579, 0.1037068339065936, 0.10333386823924556, 0.102984711179838, 0.10265663307520004, 0.10234734138684007, 0.10205489276428201, 0.10177762607518376, 0.10151411068723203, 0.10126310602672267, 0.10102352959483861, 0.10079443141031873, 0.10057497339336553, 0.10036441259041015, 0.10016208741443877]\n",
      "AlphaS_Lambda4: 0.364864\n",
      "AlphaS_Lambda5: 0.218788\n"
     ]
    }
   ],
   "source": [
    "H=[]\n",
    "H.append('SetDesc: '+desc)\n",
    "H.append('SetIndex: %i'%index)\n",
    "H.append('Authors: '+auth)\n",
    "H.append('Reference: '+ref)\n",
    "H.append('Format: lhagrid1')\n",
    "H.append('DataVersion: %i'%ver)\n",
    "\n",
    "H.append('Particle: %i'%hadron)\n",
    "flavors = [-5, -4, -3, -2, -1, 1, 2, 3, 4, 5, 21]\n",
    "H.append('Flavors: '+str(flavors))\n",
    "H.append('OrderQCD: %i'%ordQCD)\n",
    "H.append('ForcePositive: 1')\n",
    "flavscheme = 'variable' # used for any variable flavor number scheme, massive or not\n",
    "H.append('FlavorScheme: '+flavscheme)\n",
    "H.append('NumFlavors: %i'%nfl)\n",
    "\n",
    "if errortype=='MC':\n",
    "  nsets = nsamples+1   # no. posteriors + average\n",
    "  errtype = 'replicas'  # LHAPDF-speak for MC method\n",
    "elif errortype=='HESSIAN': \n",
    "  nstes = 2*nsamples+2  # 2*eigenvalues + central fit\n",
    "  errtype = 'hessian'\n",
    "H.append('NumMembers: %i'%nsets)\n",
    "H.append('ErrorType: '+errtype)\n",
    "H.append('ErrorConfLevel: %f'%cl)\n",
    "H.append('XMin: %e'%xmin)\n",
    "H.append('XMax: %e'%xmax)\n",
    "H.append('QMin: %e'%Qmin)\n",
    "H.append('QMax: %e'%Qmax)\n",
    "\n",
    "MZ = 91.1876\n",
    "H.append('MZ: %f'%MZ**2)\n",
    "H.append('MUp: %f'%mu)\n",
    "H.append('MDown: %f'%md)\n",
    "H.append('MStrange: %f'%ms)\n",
    "H.append('MCharm: %f'%mc)\n",
    "H.append('MBottom: %f'%mb)\n",
    "H.append('MTop: %f'%mt)\n",
    "\n",
    "H.append('AlphaS_MZ: %f'%jamFF.get_alphaS(MZ**2))\n",
    "H.append('AlphaS_OrderQCD: %f'%ordQCD)\n",
    "H.append('AlphaS_Type: ipol')\n",
    "H.append(Qgrid**2)    #  <--------------  check small Q values, grid is way too coarse [Nobuo will do this]\n",
    "H.append('AlphaS_Qs: '+str(Qgrid.tolist()))\n",
    "alphas = []\n",
    "for Q in Qgrid:\n",
    "  alphas.append(jamFF.get_alphaS(Q**2))\n",
    "H.append('AlphaS_Vals: '+str(alphas))\n",
    "H.append('AlphaS_Lambda4: %f'%jamFF.get_alphaS(mc**2))\n",
    "H.append('AlphaS_Lambda5: %f'%jamFF.get_alphaS(mb**2))\n",
    "   \n",
    "\n",
    "for l in H: print l "
   ]
  },
  {
   "cell_type": "code",
   "execution_count": 208,
   "metadata": {
    "collapsed": false
   },
   "outputs": [
    {
     "name": "stdout",
     "output_type": "stream",
     "text": [
      "0.458797885132\n"
     ]
    }
   ],
   "source": [
    "print jamFF.get_XF(0,'FFpion','up',x,Q2)"
   ]
  },
  {
   "cell_type": "markdown",
   "metadata": {},
   "source": [
    "## write single .dat file"
   ]
  },
  {
   "cell_type": "code",
   "execution_count": 226,
   "metadata": {
    "collapsed": false
   },
   "outputs": [
    {
     "name": "stdout",
     "output_type": "stream",
     "text": [
      "PdfType: central\n",
      "Format: lhagrid1\n",
      "---\n",
      "1.0000e-06 1.0102e-02 2.0203e-02 3.0304e-02 4.0405e-02 5.0506e-02 6.0607e-02 7.0708e-02 8.0809e-02 9.0910e-02 1.0101e-01 1.1111e-01 1.2121e-01 1.3131e-01 1.4141e-01 1.5152e-01 1.6162e-01 1.7172e-01 1.8182e-01 1.9192e-01 2.0202e-01 2.1212e-01 2.2222e-01 2.3232e-01 2.4243e-01 2.5253e-01 2.6263e-01 2.7273e-01 2.8283e-01 2.9293e-01 3.0303e-01 3.1313e-01 3.2323e-01 3.3333e-01 3.4343e-01 3.5354e-01 3.6364e-01 3.7374e-01 3.8384e-01 3.9394e-01 4.0404e-01 4.1414e-01 4.2424e-01 4.3434e-01 4.4444e-01 4.5455e-01 4.6465e-01 4.7475e-01 4.8485e-01 4.9495e-01 5.0505e-01 5.1515e-01 5.2525e-01 5.3535e-01 5.4545e-01 5.5556e-01 5.6566e-01 5.7576e-01 5.8586e-01 5.9596e-01 6.0606e-01 6.1616e-01 6.2626e-01 6.3636e-01 6.4647e-01 6.5657e-01 6.6667e-01 6.7677e-01 6.8687e-01 6.9697e-01 7.0707e-01 7.1717e-01 7.2727e-01 7.3737e-01 7.4748e-01 7.5758e-01 7.6768e-01 7.7778e-01 7.8788e-01 7.9798e-01 8.0808e-01 8.1818e-01 8.2828e-01 8.3838e-01 8.4849e-01 8.5859e-01 8.6869e-01 8.7879e-01 8.8889e-01 8.9899e-01 9.0909e-01 9.1919e-01 9.2929e-01 9.3939e-01 9.4949e-01 9.5960e-01 9.6970e-01 9.7980e-01 9.8990e-01 1.0000e+00\n",
      "1.0000e+00 5.8730e+01 8.3051e+01 1.0171e+02 1.1745e+02 1.3131e+02 1.4384e+02 1.5537e+02 1.6609e+02 1.7617e+02 1.8570e+02 1.9476e+02 2.0342e+02 2.1173e+02 2.1972e+02 2.2743e+02 2.3489e+02 2.4212e+02 2.4914e+02 2.5596e+02 2.6261e+02 2.6910e+02 2.7543e+02 2.8162e+02 2.8768e+02 2.9361e+02 2.9942e+02 3.0513e+02 3.1073e+02 3.1623e+02\n",
      "-5 -4 -3 -2 -1  1  2  3  4  5 21\n"
     ]
    },
    {
     "ename": "ValueError",
     "evalue": "Invalid conversion specification",
     "output_type": "error",
     "traceback": [
      "\u001b[0;31m---------------------------------------------------------------------------\u001b[0m",
      "\u001b[0;31mValueError\u001b[0m                                Traceback (most recent call last)",
      "\u001b[0;32m<ipython-input-226-550d4fcc8c1c>\u001b[0m in \u001b[0;36m<module>\u001b[0;34m()\u001b[0m\n\u001b[1;32m     35\u001b[0m \u001b[0;34m\u001b[0m\u001b[0m\n\u001b[1;32m     36\u001b[0m \u001b[0mhadron\u001b[0m \u001b[0;34m=\u001b[0m \u001b[0;34m'FFpion'\u001b[0m\u001b[0;34m\u001b[0m\u001b[0m\n\u001b[0;32m---> 37\u001b[0;31m \u001b[0mwritedat\u001b[0m\u001b[0;34m(\u001b[0m\u001b[0;36m0\u001b[0m\u001b[0;34m,\u001b[0m\u001b[0mhadron\u001b[0m\u001b[0;34m)\u001b[0m\u001b[0;34m\u001b[0m\u001b[0m\n\u001b[0m",
      "\u001b[0;32m<ipython-input-226-550d4fcc8c1c>\u001b[0m in \u001b[0;36mwritedat\u001b[0;34m(ipos, hadron)\u001b[0m\n\u001b[1;32m     31\u001b[0m         \u001b[0mfull_dist\u001b[0m\u001b[0;34m.\u001b[0m\u001b[0mappend\u001b[0m\u001b[0;34m(\u001b[0m\u001b[0mFF\u001b[0m\u001b[0;34m)\u001b[0m\u001b[0;34m\u001b[0m\u001b[0m\n\u001b[1;32m     32\u001b[0m   \u001b[0mtemplate\u001b[0m \u001b[0;34m=\u001b[0m \u001b[0;34m''\u001b[0m\u001b[0;34m.\u001b[0m\u001b[0mjoin\u001b[0m\u001b[0;34m(\u001b[0m\u001b[0;34m[\u001b[0m\u001b[0;34m'{%i:'\u001b[0m\u001b[0;34m%\u001b[0m\u001b[0mn\u001b[0m\u001b[0;34m+\u001b[0m\u001b[0;34m'%12.5e} '\u001b[0m \u001b[0;32mfor\u001b[0m \u001b[0mn\u001b[0m \u001b[0;32min\u001b[0m \u001b[0mrange\u001b[0m\u001b[0;34m(\u001b[0m\u001b[0mnpart\u001b[0m\u001b[0;34m)\u001b[0m\u001b[0;34m]\u001b[0m\u001b[0;34m)\u001b[0m    \u001b[0;31m# <----- how many sig digits ?\u001b[0m\u001b[0;34m\u001b[0m\u001b[0m\n\u001b[0;32m---> 33\u001b[0;31m   \u001b[0;32mprint\u001b[0m \u001b[0mtemplate\u001b[0m\u001b[0;34m.\u001b[0m\u001b[0mformat\u001b[0m\u001b[0;34m(\u001b[0m\u001b[0mfull_dist\u001b[0m\u001b[0;34m)\u001b[0m\u001b[0;34m\u001b[0m\u001b[0m\n\u001b[0m\u001b[1;32m     34\u001b[0m \u001b[0;34m\u001b[0m\u001b[0m\n\u001b[1;32m     35\u001b[0m \u001b[0;34m\u001b[0m\u001b[0m\n",
      "\u001b[0;31mValueError\u001b[0m: Invalid conversion specification"
     ]
    }
   ],
   "source": [
    "def writedat(ipos,hadron):\n",
    "  \n",
    "  if ipos==0: \n",
    "    type='central'\n",
    "  else:\n",
    "    type='replica'\n",
    "\n",
    "  H = []\n",
    "  H.append('PdfType: '+type)\n",
    "  H.append('Format: lhagrid1')\n",
    "  H.append('---')  \n",
    "  \n",
    "  for l in H: print l\n",
    "  \n",
    "  xvals = [\"%10.4e\" % x for x in xgrid]\n",
    "  print ' '.join(xvals)\n",
    "  Qvals = [\"%10.4e\" % Q for Q in Qgrid]\n",
    "  print ' '.join(Qvals)\n",
    "  flavs = [\"%2i\" % f for f in flavors]\n",
    "  print ' '.join(flavs)\n",
    "    \n",
    "  partons = ['bp','cp','sp','up','dp','dp','up','sp','cp','bp','g']    #   <----------  add the others\n",
    "  npart = len(partons)\n",
    "  \n",
    "  full_dist = []\n",
    "  for x in xgrid:\n",
    "    for Q in Qgrid:\n",
    "      for f in partons:\n",
    "        FF = jamFF.get_XF(ipos,hadron,'up',x,Q**2)    # <-----  FF or x*FF ??  (Nobuo returns x*FF, check what is standard in LHAPDF)\n",
    "        #if x==1.: FF = 0.  \n",
    "        full_dist.append(FF)\n",
    "  template = ''.join(['{%i:'%n+'%12.5e} ' for n in range(npart)])    # <----- how many sig digits ?\n",
    "  print template.format(full_dist)\n",
    "        \n",
    "    \n",
    "hadron = 'FFpion'\n",
    "writedat(0,hadron)"
   ]
  },
  {
   "cell_type": "code",
   "execution_count": null,
   "metadata": {
    "collapsed": true
   },
   "outputs": [],
   "source": [
    "\n",
    "\n",
    "\n",
    "\n",
    "\n",
    "\n",
    "\n",
    "\n",
    "\n",
    "\n",
    "\n"
   ]
  }
 ],
 "metadata": {
  "kernelspec": {
   "display_name": "Python 2",
   "language": "python2",
   "name": "python2"
  },
  "language_info": {
   "codemirror_mode": {
    "name": "ipython",
    "version": 2
   },
   "file_extension": ".py",
   "mimetype": "text/x-python",
   "name": "python",
   "nbconvert_exporter": "python",
   "pygments_lexer": "ipython2",
   "version": "2.7.12"
  }
 },
 "nbformat": 4,
 "nbformat_minor": 0
}
