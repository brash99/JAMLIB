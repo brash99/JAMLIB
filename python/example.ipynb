{
 "cells": [
  {
   "cell_type": "markdown",
   "metadata": {},
   "source": [
    "# JAMLIB example"
   ]
  },
  {
   "cell_type": "code",
   "execution_count": null,
   "metadata": {
    "collapsed": false
   },
   "outputs": [],
   "source": [
    "##############################################\n",
    "import sys,os\n",
    "import numpy as np\n",
    "##############################################\n",
    "import pylab as py\n",
    "from  matplotlib import rc\n",
    "%matplotlib inline  \n",
    "%config InlineBackend.figure_format = 'retina'  \n",
    "##############################################\n",
    "from corelib import JAMLIB\n",
    "##############################################"
   ]
  },
  {
   "cell_type": "markdown",
   "metadata": {},
   "source": [
    "## Pions"
   ]
  },
  {
   "cell_type": "code",
   "execution_count": null,
   "metadata": {
    "collapsed": false
   },
   "outputs": [],
   "source": [
    "FFpion=JAMLIB('JAM16/FFpion')"
   ]
  },
  {
   "cell_type": "markdown",
   "metadata": {},
   "source": [
    "## Quick test"
   ]
  },
  {
   "cell_type": "code",
   "execution_count": null,
   "metadata": {
    "collapsed": false
   },
   "outputs": [],
   "source": [
    "x,Q2=0.5,1.0\n",
    "\n",
    "print 'alphaS     = ',FFpion.get_alphaS(Q2)\n",
    "print 'num pos    = ',FFpion.npos\n",
    "print 'xF(ipos=0) = ',FFpion.get_XF(0,'up',x,Q2)   #<--- up == u + ub\n"
   ]
  },
  {
   "cell_type": "markdown",
   "metadata": {},
   "source": [
    "## Plot FF"
   ]
  },
  {
   "cell_type": "code",
   "execution_count": null,
   "metadata": {
    "collapsed": false
   },
   "outputs": [],
   "source": [
    "X=np.linspace(0.05,1)\n",
    "XF=[[FFpion.get_XF(i,'up',x,Q2) for x in X] for i in range(FFpion.npos)]\n",
    "XF0=np.mean(XF,axis=0)\n",
    "dXF=np.std(XF,axis=0)\n",
    "\n",
    "py.figure(figsize=(7,7))\n",
    "ax=py.subplot(111)\n",
    "ax.fill_between(X,XF0-dXF,XF0+dXF,edgecolor='r',facecolor='r',alpha=0.5)\n",
    "ax.plot(X,XF0,'r-')\n",
    "ax.set_ylim(0,1.5)\n",
    "ax.set_xlim(np.amin(X),np.amax(X));\n",
    "ax.set_xlabel(r'$z$',size=50)\n",
    "ax.set_ylabel(r'$zD(z)$',size=50)\n",
    "ax.tick_params(axis='both', which='major', labelsize=20)\n",
    "\n",
    "#py.savefig('FFplot.pdf')    #<--- uncomment to save the figure in pdf format"
   ]
  },
  {
   "cell_type": "code",
   "execution_count": null,
   "metadata": {
    "collapsed": true
   },
   "outputs": [],
   "source": []
  }
 ],
 "metadata": {
  "kernelspec": {
   "display_name": "Python 2",
   "language": "python",
   "name": "python2"
  },
  "language_info": {
   "codemirror_mode": {
    "name": "ipython",
    "version": 2
   },
   "file_extension": ".py",
   "mimetype": "text/x-python",
   "name": "python",
   "nbconvert_exporter": "python",
   "pygments_lexer": "ipython2",
   "version": "2.7.12"
  }
 },
 "nbformat": 4,
 "nbformat_minor": 0
}
