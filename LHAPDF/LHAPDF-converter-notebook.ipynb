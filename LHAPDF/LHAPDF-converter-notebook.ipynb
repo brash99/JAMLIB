{
 "cells": [
  {
   "cell_type": "code",
   "execution_count": 1,
   "metadata": {
    "collapsed": true
   },
   "outputs": [],
   "source": [
    "##############################################\n",
    "import sys,os\n",
    "import numpy as np\n",
    "import pylab as py\n",
    "##############################################\n",
    "import pylab as py\n",
    "from  matplotlib import rc\n",
    "import matplotlib.pyplot as plt\n",
    "%matplotlib inline  \n",
    "%config InlineBackend.figure_format = 'retina' \n",
    "##############################################\n",
    "PATH='../python/'\n",
    "sys.path.append(PATH)  # path of the JAMLIB python folder is located\n",
    "from corelib import JAMLIB\n",
    "##############################################"
   ]
  },
  {
   "cell_type": "markdown",
   "metadata": {},
   "source": [
    "# Code for LHAPDF grids"
   ]
  },
  {
   "cell_type": "markdown",
   "metadata": {},
   "source": [
    "## JAMLIB testing"
   ]
  },
  {
   "cell_type": "code",
   "execution_count": 2,
   "metadata": {
    "collapsed": false
   },
   "outputs": [],
   "source": [
    "def testjam(x,Q2):\n",
    "\n",
    "  print 'alphaS     = ',jamFF.get_alphaS(Q2)\n",
    "  print 'no. of posteriors = ',jamFF.npos\n",
    "  print 'xFF(ipos=0) = ',jamFF.get_XF(0,'up',x,Q2)\n",
    "\n",
    "  xgrid = jamFF.get_Xgrid()\n",
    "  xmin = np.min(xgrid)\n",
    "  xmax = np.max(xgrid)\n",
    "  print 'Xmin,Xmax: ', xmin,xmax\n",
    "  print xgrid \n",
    "\n",
    "  Q2grid = jamFF.get_Q2grid()\n",
    "  Q2min = np.min(Q2grid)\n",
    "  Q2max = np.max(Q2grid)\n",
    "  print 'Q2min,Q2max: ', Q2min,Q2max\n",
    "  print Q2grid"
   ]
  },
  {
   "cell_type": "markdown",
   "metadata": {},
   "source": [
    "## Writes .info file"
   ]
  },
  {
   "cell_type": "code",
   "execution_count": 3,
   "metadata": {
    "collapsed": false
   },
   "outputs": [],
   "source": [
    "def writeinfo():\n",
    "  H=[]\n",
    "  H.append('SetDesc: '+desc)\n",
    "  H.append('SetIndex: %i'%index)\n",
    "  H.append('Authors: '+auth)\n",
    "  H.append('Reference: '+ref)\n",
    "  H.append('Format: lhagrid1')\n",
    "  H.append('DataVersion: %i'%ver)\n",
    "\n",
    "  H.append('Particle: %i'%particle)\n",
    "  H.append('Flavors: '+str(flavors))\n",
    "  H.append('OrderQCD: %i'%ordQCD)\n",
    "  H.append('ForcePositive: 1')\n",
    "  flavscheme = 'variable' # used for any variable flavor number scheme, massive or not\n",
    "  H.append('FlavorScheme: '+flavscheme)\n",
    "  H.append('NumFlavors: %i'%nfl)\n",
    "\n",
    "  if errortype=='MC':\n",
    "    nsets = nsamples+1   # number of posteriors + average\n",
    "    errtype = 'replicas'  # LHAPDF-speak for MC method\n",
    "  elif errortype=='HESSIAN': \n",
    "    nsets = 2*nsamples+2  # 2*eigenvalues + central fit\n",
    "    errtype = 'hessian'\n",
    "  H.append('NumMembers: %i'%nsets)\n",
    "  H.append('ErrorType: '+errtype)\n",
    "  H.append('ErrorConfLevel: %f'%cl)\n",
    "  H.append('XMin: %e'%xmin)\n",
    "  H.append('XMax: %e'%xmax)\n",
    "  H.append('QMin: %e'%Qmin)\n",
    "  H.append('QMax: %e'%Qmax)\n",
    "\n",
    "  H.append('MZ: %f'%mZ)\n",
    "  H.append('MUp: %f'%mu)\n",
    "  H.append('MDown: %f'%md)\n",
    "  H.append('MStrange: %f'%ms)\n",
    "  H.append('MCharm: %f'%mc)\n",
    "  H.append('MBottom: %f'%mb)\n",
    "  H.append('MTop: %f'%mt)\n",
    "\n",
    "  H.append('AlphaS_MZ: %f'%jamFF.get_alphaS(mZ**2))\n",
    "  H.append('AlphaS_OrderQCD: %f'%ordQCD)\n",
    "  H.append('AlphaS_Type: ipol')\n",
    "  H.append('AlphaS_Qs: '+str(Qgrid.tolist()))\n",
    "  alphas = []\n",
    "  for Q in Qgrid:\n",
    "    alphas.append(jamFF.get_alphaS(Q**2))\n",
    "  H.append('AlphaS_Vals: '+str(alphas))\n",
    "  H.append('AlphaS_Lambda4: %f'%jamFF.get_alphaS(mc**2))\n",
    "  H.append('AlphaS_Lambda5: %f'%jamFF.get_alphaS(mb**2))\n",
    "\n",
    "  for l in H: print l "
   ]
  },
  {
   "cell_type": "markdown",
   "metadata": {},
   "source": [
    "## Write a single .dat file"
   ]
  },
  {
   "cell_type": "code",
   "execution_count": 4,
   "metadata": {
    "collapsed": false
   },
   "outputs": [],
   "source": [
    "def writedat(ipos):\n",
    "  \n",
    "  if ipos==0: \n",
    "    type='central'\n",
    "  else:\n",
    "    type='replica'\n",
    "\n",
    "  H = []\n",
    "  H.append('PdfType: '+type)\n",
    "  H.append('Format: lhagrid1')\n",
    "  H.append('---')  \n",
    "  \n",
    "  for l in H: print l\n",
    "  \n",
    "  xvals = [\"%10.4e\" % x for x in xgrid]\n",
    "  print ' '.join(xvals)\n",
    "  Qvals = [\"%10.4e\" % Q for Q in Qgrid]\n",
    "  print ' '.join(Qvals)\n",
    "  flavs = [\"%2i\" % f for f in flavors]\n",
    "  print ' '.join(flavs)\n",
    "  \n",
    "  npart = len(partons)\n",
    "  \n",
    "  full_dist = []\n",
    "  ix = 0\n",
    "  iQ = 0\n",
    "  il = 0\n",
    "  for x in xgrid: \n",
    "    for Q in Qgrid:\n",
    "      if ipos==0:  # Avreraged PDF\n",
    "        FF = np.array([0 for n in range(npart)])\n",
    "        for i in range(nsamples): \n",
    "          FF = FF + np.array([jamFF.get_XF(i,f,x,Q**2) for f in partons])\n",
    "        FF = FF/nsamples\n",
    "      else:   # ipos-th posterior \n",
    "        FF = [jamFF.get_XF(ipos-1,f,x,Q**2) for f in partons]   # <--------- NOTE: for now x*FF(x), Shall we distribute FF(x) as for other PDFs ??  \n",
    "        #if Q < mb: FF[0] = FF[9] = 0\n",
    "        #if Q < mc: FF[1] = FF[8] = 0\n",
    "      if Q < mb: FF[4] = 0\n",
    "      if Q < mc: FF[3] = 0\n",
    "      #FF.append([x,Q])\n",
    "      full_dist.append(FF)\n",
    "  for l in full_dist: \n",
    "    out = ''\n",
    "    for i in range(len(l)):\n",
    "      out += '{:12.5e} '.format(l[i])\n",
    "    print out\n",
    "\n",
    "  print '---'  \n",
    "\n",
    " "
   ]
  },
  {
   "cell_type": "markdown",
   "metadata": {},
   "source": [
    "## Writes all the .info and .dat files in one folder"
   ]
  },
  {
   "cell_type": "code",
   "execution_count": 5,
   "metadata": {
    "collapsed": false
   },
   "outputs": [],
   "source": [
    "def create_LHAPDF_grid(setname):\n",
    "  \n",
    "  start = os.getcwd()\n",
    "\n",
    "  # Creates and navigates to the right folder\n",
    "  if not os.path.exists(setname):\n",
    "      os.makedirs(setname)\n",
    "  os.chdir(setname)\n",
    "\n",
    "  # Writes the .info file\n",
    "  stdout = sys.stdout \n",
    "  f = open(setname+'.info','w')   \n",
    "  sys.stdout = f    # <---------- very fragile solution, needs improvement\n",
    "  writeinfo()\n",
    "  f.close()\n",
    "  sys.stdout=stdout\n",
    "\n",
    "  for igrid in range(nsamples+1):\n",
    "    gridname = '{}_{:04d}.dat'.format(setname,igrid)\n",
    "    f = open(gridname,'w')\n",
    "    sys.stdout = f   # <---------- very fragile solution, needs improvement\n",
    "    writedat(igrid)\n",
    "    f.close()\n",
    "    sys.stdout=stdout\n",
    "  \n",
    "  # goes back to the initial folder\n",
    "  os.chdir(start)\n",
    "\n"
   ]
  },
  {
   "cell_type": "markdown",
   "metadata": {},
   "source": [
    "# GRID PRODUCTION"
   ]
  },
  {
   "cell_type": "code",
   "execution_count": 6,
   "metadata": {
    "collapsed": false,
    "scrolled": true
   },
   "outputs": [
    {
     "name": "stdout",
     "output_type": "stream",
     "text": [
      "########################################################## \n",
      "                                                           \n",
      "     _   _    __  __ _     ___ ____                        \n",
      "    | | / \\  |  \\/  | |   |_ _| __ )                       \n",
      " _  | |/ _ \\ | |\\/| | |    | ||  _ \\                       \n",
      "| |_| / ___ \\| |  | | |___ | || |_) |                      \n",
      " \\___/_/   \\_\\_|  |_|_____|___|____/                       \n",
      "                                                           \n",
      "~~~~~~~~~~~~~~~~~~~~~~~~~~~~~~~~~~~~~~~~~~~~~~~~~~~~~~~~~~ \n",
      "                                                           \n",
      "Authors:                                                   \n",
      "Nobuo Sato         (Jefferson Lab)                         \n",
      "Jake Ethier        (College of William and Mary)           \n",
      "Wally Melnitchouk  (Jefferson Lab)                         \n",
      "Alberto Accardi    (Hampton University and Jefferson Lab)  \n",
      "########################################################## \n",
      "loading tables [100%]\n"
     ]
    }
   ],
   "source": [
    "PATH = '../python/'   # path of the JAMLIB pythin folder\n",
    "\n",
    "# Select JAM analysis\n",
    "#jam_analysis = \"../python/JAM16/FFpion\"\n",
    "jam_analysis = PATH+\"JAM16/FFkaon\"\n",
    "jamFF=JAMLIB(jam_analysis)\n",
    "\n",
    "# Selects LHAPDF set name for given JAM hadron\n",
    "setname = \"JAM16FF_K_Ceven\"   # name of teh set as it should appear in LHAPDF\n",
    "particle = 321  \n",
    "  #  2212=proton   211=pi+  321=K+\n",
    "  #\n",
    "  # \"particle\" is the hadron to which the PDFs belong, or the FF fragments into, see\n",
    "  # http://pdg.lbl.gov/2015/reviews/rpp2015-rev-monte-carlo-numbering.pdf\n",
    "  # For protons, neutrons, use format ±n nr nL nq1 nq2 nq3 nJ\n",
    "  # E.g, proton = 2212 (u; u; d; spin 1/2 --> nJ=2*s+1)\n",
    "  # For nuclei, use LZZZAAAI, see point 14 in PDG standard:\n",
    "  # L nonzero is for hypernuclei, I represent isomer levels with\n",
    "  # I = 0 the ground state, and Z and A should be self-explanatory.\n",
    "  \n",
    "\n",
    "# User-supplied  information for .info file headers               # <-------------  CHECK x*FF or FF for LHAPDF comvention\n",
    "desc = \"'JAMFF16 fragmentation functions of gluons and charge-conjugation-even quarks \\\n",
    "into K+ mesons (identical to K- by charge conjugation). Returns x*FF(x). \\\n",
    "Flavors 1-5: q+ == q+qbar with q=d,u,s,c,b; Flavor 21: gluon. \\\n",
    "mem=0 => average of posteriors; mem=1-200 => FF posteriors.'\"\n",
    "auth = \"'[JAM collaboration] Sato N, Ethier J J, Melnitchouk W, Hirai M, Kumano S, Accardi A'\"\n",
    "ref = \"'arXiv:1609.00899 - e-mail accardi@jlab.org / sato@jlab.org'\"\n",
    "ver = -1   # -1=beta; 1,2,3, ... official version, and updated/debugged ones if needed\n",
    "index = 16004\n",
    "  # index = nnxxx\n",
    "  # nn (or nnn): assigned by Andy [LHAPDF]; for example 16=JAM fits - this to be discussed with Andy\n",
    "  # xxx (or xx): up to us --> I would suggest 000-002 for JAM15; 003-004 for JAM16 FF; and so on as needed\n"
   ]
  },
  {
   "cell_type": "code",
   "execution_count": 7,
   "metadata": {
    "collapsed": true
   },
   "outputs": [
    {
     "name": "stdout",
     "output_type": "stream",
     "text": [
      "alphaS     =  0.24654958796\n",
      "no. of posteriors =  200\n",
      "xFF(ipos=0) =  0.34776874652\n",
      "Xmin,Xmax:  0.05 1.0\n",
      "[ 0.05        0.05959596  0.06919192  0.07878788  0.08838384  0.0979798\n",
      "  0.10757576  0.11717172  0.12676768  0.13636364  0.1459596   0.15555556\n",
      "  0.16515152  0.17474747  0.18434343  0.19393939  0.20353535  0.21313131\n",
      "  0.22272727  0.23232323  0.24191919  0.25151515  0.26111111  0.27070707\n",
      "  0.28030303  0.28989899  0.29949495  0.30909091  0.31868687  0.32828283\n",
      "  0.33787879  0.34747475  0.35707071  0.36666667  0.37626263  0.38585859\n",
      "  0.39545455  0.40505051  0.41464646  0.42424242  0.43383838  0.44343434\n",
      "  0.4530303   0.46262626  0.47222222  0.48181818  0.49141414  0.5010101\n",
      "  0.51060606  0.52020202  0.52979798  0.53939394  0.5489899   0.55858586\n",
      "  0.56818182  0.57777778  0.58737374  0.5969697   0.60656566  0.61616162\n",
      "  0.62575758  0.63535354  0.64494949  0.65454545  0.66414141  0.67373737\n",
      "  0.68333333  0.69292929  0.70252525  0.71212121  0.72171717  0.73131313\n",
      "  0.74090909  0.75050505  0.76010101  0.76969697  0.77929293  0.78888889\n",
      "  0.79848485  0.80808081  0.81767677  0.82727273  0.83686869  0.84646465\n",
      "  0.85606061  0.86565657  0.87525253  0.88484848  0.89444444  0.9040404\n",
      "  0.91363636  0.92323232  0.93282828  0.94242424  0.9520202   0.96161616\n",
      "  0.97121212  0.98080808  0.99040404  1.        ]\n",
      "Q2min,Q2max:  1.0 10000000000.0\n",
      "[  1.00000000e+00   2.21221629e+00   4.89390092e+00   1.08263673e+01\n",
      "   2.39502662e+01   5.29831691e+01   1.17210230e+02   2.59294380e+02\n",
      "   5.73615251e+02   1.26896100e+03   2.80721620e+03   6.21016942e+03\n",
      "   1.37382380e+04   3.03919538e+04   6.72335754e+04   1.48735211e+05\n",
      "   3.29034456e+05   7.27895384e+05   1.61026203e+06   3.56224789e+06\n",
      "   7.88046282e+06   1.74332882e+07   3.85662042e+07   8.53167852e+07\n",
      "   1.88739182e+08   4.17531894e+08   9.23670857e+08   2.04335972e+09\n",
      "   4.52035366e+09   1.00000000e+10]\n"
     ]
    }
   ],
   "source": [
    "testjam(0.1,10.)"
   ]
  },
  {
   "cell_type": "code",
   "execution_count": 8,
   "metadata": {
    "collapsed": false
   },
   "outputs": [],
   "source": [
    "# COLLECTS INFO ON JAM FIT\n",
    "\n",
    "# QCD setup\n",
    "ordQCD =1  # 1: NLO\n",
    "nfl = 5\n",
    "#           Usual PDFs, with q/qbar separation\n",
    "#           bb  cb  sb  ub  db  d  u  s  c  b  g\n",
    "#flavors = [-5, -4, -3, -2, -1, 1, 2, 3, 4, 5, 21]\n",
    "#          DIS/SIA-only analysis --> only q+=q+ + q- is fitted\n",
    "#          d+ u+ s+ c+ b+  g\n",
    "flavors = [1, 2, 3, 4, 5, 21]\n",
    "partons = ['dp','up','sp','cp','bp','g']\n",
    "\n",
    "# This is for JAM FF or PDF, for others, need to change\n",
    "errortype = 'MC'      # MC = Monte Carlo method --> nsamples = no. of posteriors\n",
    "nsamples = jamFF.npos # HESSIAN = Hessian --> nsamples = no. free parameters\n",
    "cl = 68.3             # confidence level\n",
    "\n",
    "# Collects info from JAM fits\n",
    "xgrid = jamFF.get_Xgrid()\n",
    "xmin = np.min(xgrid)\n",
    "xmax = np.max(xgrid)\n",
    "Qgrid = jamFF.get_Q2grid()**0.5\n",
    "Qmin = np.min(Qgrid)\n",
    "Qmax = np.max(Qgrid)\n",
    "mu = 0.\n",
    "md = 0.\n",
    "ms = 0.\n",
    "mc = jamFF.mc2**0.5\n",
    "mb = jamFF.mb2**0.5\n",
    "mt = jamFF.mt2**0.5\n",
    "mZ = jamFF.mZ2**0.5"
   ]
  },
  {
   "cell_type": "code",
   "execution_count": null,
   "metadata": {
    "collapsed": true
   },
   "outputs": [],
   "source": [
    "writeinfo()"
   ]
  },
  {
   "cell_type": "code",
   "execution_count": null,
   "metadata": {
    "collapsed": true
   },
   "outputs": [],
   "source": [
    "writedat(1)"
   ]
  },
  {
   "cell_type": "code",
   "execution_count": null,
   "metadata": {
    "collapsed": false
   },
   "outputs": [],
   "source": [
    "# CREATE THE GRIDS\n",
    "\n",
    "create_LHAPDF_grid(setname)"
   ]
  },
  {
   "cell_type": "code",
   "execution_count": null,
   "metadata": {
    "collapsed": true
   },
   "outputs": [],
   "source": []
  }
 ],
 "metadata": {
  "kernelspec": {
   "display_name": "Python 2",
   "language": "python2",
   "name": "python2"
  },
  "language_info": {
   "codemirror_mode": {
    "name": "ipython",
    "version": 2
   },
   "file_extension": ".py",
   "mimetype": "text/x-python",
   "name": "python",
   "nbconvert_exporter": "python",
   "pygments_lexer": "ipython2",
   "version": "2.7.12"
  }
 },
 "nbformat": 4,
 "nbformat_minor": 0
}
