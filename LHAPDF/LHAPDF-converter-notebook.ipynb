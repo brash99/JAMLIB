{
 "cells": [
  {
   "cell_type": "code",
   "execution_count": null,
   "metadata": {
    "collapsed": true
   },
   "outputs": [],
   "source": [
    "##############################################\n",
    "import sys,os\n",
    "import numpy as np\n",
    "import pylab as py\n",
    "##############################################\n",
    "import pylab as py\n",
    "from  matplotlib import rc\n",
    "import matplotlib.pyplot as plt\n",
    "%matplotlib inline  \n",
    "%config InlineBackend.figure_format = 'retina'  \n",
    "##############################################\n",
    "PATH='../python/'\n",
    "sys.path.append(PATH)  # path of the JAMLIB python folder is located\n",
    "from corelib import JAMLIB\n",
    "##############################################"
   ]
  },
  {
   "cell_type": "markdown",
   "metadata": {},
   "source": [
    "# Code for LHAPDF grids"
   ]
  },
  {
   "cell_type": "markdown",
   "metadata": {},
   "source": [
    "## JAMLIB testing"
   ]
  },
  {
   "cell_type": "code",
   "execution_count": null,
   "metadata": {
    "collapsed": false
   },
   "outputs": [],
   "source": [
    "def testjam(x,Q2):\n",
    "\n",
    "  print 'alphaS     = ',jamFF.get_alphaS(Q2)\n",
    "  print 'no. of posteriors = ',jamFF.npos\n",
    "  print 'xFF(ipos=0) = ',jamFF.get_XF(0,'up',x,Q2)\n",
    "\n",
    "  xgrid = jamFF.get_Xgrid()\n",
    "  xmin = np.min(xgrid)\n",
    "  xmax = np.max(xgrid)\n",
    "  print 'Xmin,Xmax: ', xmin,xmax\n",
    "  print xgrid \n",
    "\n",
    "  Q2grid = jamFF.get_Q2grid()\n",
    "  Q2min = np.min(Q2grid)\n",
    "  Q2max = np.max(Q2grid)\n",
    "  print 'Q2min,Q2max: ', Q2min,Q2max\n",
    "  print Q2grid"
   ]
  },
  {
   "cell_type": "markdown",
   "metadata": {},
   "source": [
    "## Writes .info file"
   ]
  },
  {
   "cell_type": "code",
   "execution_count": null,
   "metadata": {
    "collapsed": false
   },
   "outputs": [],
   "source": [
    "def writeinfo():\n",
    "\n",
    "  H=[]\n",
    "  H.append('SetDesc: '+desc)\n",
    "  H.append('SetIndex: %i'%index)\n",
    "  H.append('Authors: '+auth)\n",
    "  H.append('Reference: '+ref)\n",
    "  H.append('Format: lhagrid1')\n",
    "  H.append('DataVersion: %i'%ver)\n",
    "\n",
    "  H.append('Particle: %i'%particle)\n",
    "  H.append('Flavors: '+str(flavors))\n",
    "  H.append('OrderQCD: %i'%ordQCD)\n",
    "  H.append('ForcePositive: 0')   # 0: do nothing 1: force to 0 if negative\n",
    "  flavscheme = 'variable' # used for any variable flavor number scheme, massive or not\n",
    "  H.append('FlavorScheme: '+flavscheme)\n",
    "  H.append('NumFlavors: %i'%nfl)\n",
    "\n",
    "  if errortype=='MC':\n",
    "    nsets = nsamples+1   # number of posteriors + average\n",
    "    errtype = 'replicas'  # LHAPDF-speak for MC method\n",
    "  elif errortype=='HESSIAN': \n",
    "    nsets = 2*nsamples+2  # 2*eigenvalues + central fit\n",
    "    errtype = 'hessian'\n",
    "  H.append('NumMembers: %i'%nsets)\n",
    "  H.append('ErrorType: '+errtype)\n",
    "  H.append('ErrorConfLevel: %f'%cl)\n",
    "  H.append('XMin: %e'%xmin)\n",
    "  H.append('XMax: %e'%xmax)\n",
    "  H.append('QMin: %e'%Qmin)\n",
    "  H.append('QMax: %e'%Qmax)\n",
    "\n",
    "  H.append('MZ: %f'%mZ)\n",
    "  H.append('MUp: %f'%mu)\n",
    "  H.append('MDown: %f'%md)\n",
    "  H.append('MStrange: %f'%ms)\n",
    "  H.append('MCharm: %f'%mc)\n",
    "  H.append('MBottom: %f'%mb)\n",
    "  H.append('MTop: %f'%mt)\n",
    "\n",
    "  H.append('AlphaS_MZ: %f'%jamFF.get_alphaS(mZ**2))\n",
    "  H.append('AlphaS_OrderQCD: %f'%ordQCD)\n",
    "  H.append('AlphaS_Type: ipol')\n",
    "  H.append('AlphaS_Qs: '+str(Rgrid.tolist()))\n",
    "  alphas = []\n",
    "  for Q in Rgrid:\n",
    "    alphas.append(jamFF.get_alphaS(Q**2))\n",
    "  H.append('AlphaS_Vals: '+str(alphas))\n",
    "  H.append('AlphaS_Lambda4: %f'%jamFF.get_alphaS(mc**2))\n",
    "  H.append('AlphaS_Lambda5: %f'%jamFF.get_alphaS(mb**2))\n",
    "\n",
    "  for l in H: print l "
   ]
  },
  {
   "cell_type": "markdown",
   "metadata": {},
   "source": [
    "## Write a single .dat file"
   ]
  },
  {
   "cell_type": "code",
   "execution_count": null,
   "metadata": {
    "collapsed": false
   },
   "outputs": [],
   "source": [
    "def writedat(member):\n",
    "  \n",
    "  # headers\n",
    "  if member==0: \n",
    "    type='central'\n",
    "  else:\n",
    "    type='replica'\n",
    "  H = []\n",
    "  H.append('PdfType: '+type)\n",
    "  H.append('Format: lhagrid1')\n",
    "  H.append('---')  \n",
    "  for l in H: print l\n",
    "    \n",
    "  # prints out x and Q grids  \n",
    "  xvals = [\"%10.4e\" % x for x in ygrid]\n",
    "  print ' '.join(xvals)\n",
    "  Qvals = [\"%10.4e\" % Q for Q in Rgrid]\n",
    "  print ' '.join(Qvals)\n",
    "  flavs = [\"%2i\" % f for f in flavors]\n",
    "  print ' '.join(flavs)\n",
    "  \n",
    "  # prints out the x*PDF(x) grid\n",
    "  npart = len(partons)\n",
    "    \n",
    "  full_dist = []\n",
    "  ix = 0\n",
    "  iQ = 0\n",
    "  il = 0\n",
    "  for x in ygrid: \n",
    "    for Q in Rgrid:\n",
    "      if member==0:  # Avreraged distribution\n",
    "        FF = np.array([0 for n in range(npart)])\n",
    "        for i in range(nsamples): \n",
    "          FF = FF + np.array([jamFF.get_XF(i,f,x,Q**2) for f in partons])\n",
    "        FF = FF/nsamples\n",
    "      else:   # member-th posterior \n",
    "        FF = [jamFF.get_XF(member-1,f,x,Q**2) for f in partons]\n",
    "        #if Q < mb: FF[0] = FF[9] = 0\n",
    "        #if Q < mc: FF[1] = FF[8] = 0\n",
    "      if Q < mb and len(FF)>4: FF[4] = 0\n",
    "      if Q < mc and len(FF)>3: FF[3] = 0\n",
    "      #FF.append([x,Q])\n",
    "      full_dist.append(FF)\n",
    "  for l in full_dist: \n",
    "    out = ''\n",
    "    for i in range(len(l)):\n",
    "      out += '{:12.5e} '.format(l[i])\n",
    "    print out\n",
    "\n",
    "  print '---'  \n",
    "\n",
    " "
   ]
  },
  {
   "cell_type": "markdown",
   "metadata": {},
   "source": [
    "## Writes all the .info and .dat files in one folder"
   ]
  },
  {
   "cell_type": "code",
   "execution_count": null,
   "metadata": {
    "collapsed": false
   },
   "outputs": [],
   "source": [
    "def create_LHAPDF_grid(setname):\n",
    "  \n",
    "  print \"Generating grids for \"+setname\n",
    "  \n",
    "  start = os.getcwd()\n",
    "\n",
    "  # Creates and navigates to the right folder\n",
    "  if not os.path.exists('GRIDS/'+setname):\n",
    "      os.makedirs('GRIDS/'+setname)\n",
    "  os.chdir('GRIDS/'+setname)\n",
    "\n",
    "  stdout = sys.stdout \n",
    "  \n",
    "  # Writes the .info file\n",
    "  f = open(setname+'.info','w')   \n",
    "  sys.stdout = f    # <---------- very fragile solution, needs improvement\n",
    "  writeinfo()\n",
    "  f.close()\n",
    "  sys.stdout=stdout\n",
    "\n",
    "  for igrid in range(nsamples+1):\n",
    "    gridname = '{}_{:04d}.dat'.format(setname,igrid)\n",
    "    f = open(gridname,'w')\n",
    "    sys.stdout = f   # <---------- very fragile solution, needs improvement\n",
    "    writedat(igrid)\n",
    "    f.close()\n",
    "    sys.stdout=stdout\n",
    "  \n",
    "  # goes back to the initial folder\n",
    "  os.chdir(start)\n",
    "\n"
   ]
  },
  {
   "cell_type": "markdown",
   "metadata": {},
   "source": [
    "## log(1-z) grid generating functions"
   ]
  },
  {
   "cell_type": "markdown",
   "metadata": {},
   "source": [
    "May not be needed, in the end, but I leave them here for now"
   ]
  },
  {
   "cell_type": "code",
   "execution_count": null,
   "metadata": {
    "collapsed": true
   },
   "outputs": [],
   "source": [
    "def log_grid(x,a,d):    # logarithmic grid spacing function\n",
    "  return np.log((1-x)**a+d)\n",
    "  \n",
    "def inv_log_grid(y,a,d):   # undoes the log grid \n",
    "  return 1-(np.exp(y)-d)**(1/a)"
   ]
  },
  {
   "cell_type": "markdown",
   "metadata": {},
   "source": [
    "# GRID PRODUCTION"
   ]
  },
  {
   "cell_type": "code",
   "execution_count": null,
   "metadata": {
    "collapsed": false,
    "scrolled": false
   },
   "outputs": [],
   "source": [
    "# Select JAM analysis\n",
    "#jam_analysis = \"../python/JAM16/FFpion\"\n",
    "jam_analysis = PATH+\"JAM16/FFkaon\"\n",
    "jamFF=JAMLIB(jam_analysis)\n",
    "\n",
    "\n",
    "# Select LHAPDF set name for given JAM hadron\n",
    "# and set the user-level appropriate LHAPDF flags \n",
    "# (see \"SET LEVEL\" in https://lhapdf.hepforge.org/config.html )\n",
    "#\n",
    "# NOTE:\n",
    "#  \n",
    "# setname = name of the set as it should appear in LHAPDF\n",
    "# Particle = the hadron to which the PDFs belong, or the FF fragments into, see\n",
    "#   http://pdg.lbl.gov/2015/reviews/rpp2015-rev-monte-carlo-numbering.pdf\n",
    "#   For protons, neutrons, use format ±n nr nL nq1 nq2 nq3 nJ\n",
    "#   E.g, proton = 2212 (u; u; d; spin 1/2 --> nJ=2*s+1)\n",
    "#   For nuclei, use LZZZAAAI, see point 14 in PDG standard:\n",
    "#   L nonzero is for hypernuclei, I represent isomer levels with\n",
    "#   I = 0 the ground state, and Z and A should be self-explanatory.\n",
    "#   Examples: 2212=proton   211=pi+  321=K+\n",
    "# desc = Description of teh contents of the file - free form\n",
    "# auth = Authors of the fit / set\n",
    "# ver = version number: -1=beta; 1,2,3, ... official version, and updated/debugged ones if needed\n",
    "# index = internal LHAPDF number scheme. Should uniquely identify the set, but important only if\n",
    "#         set is to be included in teh official repository. Ask Andy Buckley <andy.buckley@cern.ch>\n",
    "#         or the LHAPDF developers <lhapdf@projects.hepforge.org> for detail.\n",
    "#         Format: index = nnxxx\n",
    "#         nn (or nnn): assigned by Andy [LHAPDF]; for example 16=JAM fits - this to be discussed with Andy\n",
    "#         xxx (or xx): up to us --> I would suggest 000-002 for JAM15; 003-004 for JAM16 FF; and so on as needed\n",
    "\n",
    "\n",
    "# JAM15 - prelim grids\n",
    "\n",
    "if jam_analysis==PATH+'JAM15/PPDF':\n",
    "  setname = \"JAM15_PPDF_Ceven\"\n",
    "  particle = 2212\n",
    "  desc = \"'JAM15 polarized PDFs of the proton. NLO fit (DIS only data). \\\n",
    "Flavors 901-905: q+ == q+qbar with q=d,u,s,c,b; Flavor 21: gluon. \\\n",
    "mem=0 => average of posteriors; mem=1-%d => PPDF posteriors.'\"%jamFF.npos\n",
    "  #Warning: only q^+ = q+qbar combination are physically meaningful; q-qbar=0 identically in this set.'\"%jamFF.npos\n",
    "  auth = \"'[JAM collaboration] Sato N, Melnitchouk W, Kuhn S E, Ethier J J, Accardi A'\"\n",
    "  ref = \"'Phys.Rev. D93 (2016) 114017 - www.jlab.org/jam - github.com/JeffersonLab/JAMLIB/tree/master/LHAPDF'\"\n",
    "  ver = -1   \n",
    "  index = 16000\n",
    "  partons = ['dp','up','sp','cp','bp','g']\n",
    "  flavors = [901, 902, 903, 904, 905, 21]\n",
    "  #           d+   u+   s+   c+   b+   g\n",
    "if jam_analysis==PATH+'JAM15/T3PPDF':\n",
    "  setname = \"JAM15_T3PPDF_Ceven\"\n",
    "  particle = 2212\n",
    "  desc = \"'JAM15 polarized twist-3 PDFs of the proton. NLO fit (DIS only data). \\\n",
    "Flavors 901-902: q+ == q+qbar with q=d,u. \\\n",
    "mem=0 => average of posteriors; mem=1-%d => PPDF posteriors.'\"%jamFF.npos\n",
    "  auth = \"'[JAM collaboration] Sato N, Melnitchouk W, Kuhn S E, Ethier J J, Accardi A'\"\n",
    "  ref = \"'Phys.Rev. D93 (2016) 114017 - www.jlab.org/jam - github.com/JeffersonLab/JAMLIB/tree/master/LHAPDF'\"\n",
    "  ver = -1   \n",
    "  index = 16001\n",
    "  partons = ['dp','up']\n",
    "  flavors = [901, 902]\n",
    "  #          d+ u+\n",
    "\n",
    "# JAM 16 - prelim grids\n",
    "  \n",
    "if jam_analysis==PATH+'JAM16/FFpion':\n",
    "  setname = \"JAM16FF_pi_Ceven\"\n",
    "  particle = 211\n",
    "  desc = \"'JAM16 fragmentation functions of gluons and charge-conjugation-even quarks \\\n",
    "into pi+ mesons (identical to pi- by charge conjugation). NLO fit (DIS only data) \\\n",
    "Flavors 901-905: q+ == q+qbar with q=d,u,s,c,b; Flavor 21: gluon. \\\n",
    "mem=0 => average of posteriors; mem=1-%d => FF posteriors.'\"%jamFF.npos\n",
    "  auth = \"'[JAM collaboration] Sato N, Ethier J J, Melnitchouk W, Hirai M, Kumano S, Accardi A'\"\n",
    "  ref = \"'arXiv:1609.00899 - www.jlab.org/jam - github.com/JeffersonLab/JAMLIB/tree/master/LHAPDF'\"\n",
    "  ver = -1   \n",
    "  index = 16003\n",
    "  partons = ['dp','up','sp','cp','bp','g']\n",
    "  flavors = [901, 902, 903, 904, 905, 21]\n",
    "  #          d+ u+ s+ c+ b+  g\n",
    "elif jam_analysis==PATH+'JAM16/FFkaon':\n",
    "  setname = \"JAM16FF_K_Ceven\"\n",
    "  particle = 321\n",
    "  desc = \"'JAM16 fragmentation functions of gluons and charge-conjugation-even quarks \\\n",
    "into K+ mesons (identical to K- by charge conjugation). NLO fit (DIS only data). \\\n",
    "Flavors 901-905: q+ == q+qbar with q=d,u,s,c,b; Flavor 21: gluon. \\\n",
    "mem=0 => average of posteriors; mem=1-%d => FF posteriors.'\"%jamFF.npos\n",
    "  auth = \"'[JAM collaboration] Sato N, Ethier J J, Melnitchouk W, Hirai M, Kumano S, Accardi A'\"\n",
    "  ref = \"'arXiv:1609.00899 - www.jlab.org/jam - github.com/JeffersonLab/JAMLIB/tree/master/LHAPDF'\"\n",
    "  ver = -1 \n",
    "  index = 16004\n",
    "  partons = ['dp','up','sp','cp','bp','g']\n",
    "  flavors = [901, 902, 903, 904, 905, 21]\n",
    "  #          d+ u+ s+ c+ b+  g\n"
   ]
  },
  {
   "cell_type": "code",
   "execution_count": null,
   "metadata": {
    "collapsed": true
   },
   "outputs": [],
   "source": [
    "testjam(0.1,10.)"
   ]
  },
  {
   "cell_type": "code",
   "execution_count": null,
   "metadata": {
    "collapsed": false
   },
   "outputs": [],
   "source": [
    "# COLLECTS INFO ON JAM FIT\n",
    "\n",
    "# QCD setup\n",
    "ordQCD =1  # 1: NLO\n",
    "nfl = 5\n",
    "\n",
    "# This is for JAM FF or PDF, for others, need to change\n",
    "errortype = 'MC'      # MC = Monte Carlo method --> nsamples = no. of posteriors\n",
    "nsamples = jamFF.npos # HESSIAN = Hessian --> nsamples = no. free parameters\n",
    "cl = 68.3             # confidence level\n",
    "\n",
    "# Collects info from JAM fits\n",
    "xgrid = jamFF.get_Xgrid()\n",
    "xmin = np.min(xgrid)\n",
    "xmax = np.max(xgrid)\n",
    "Qgrid = jamFF.get_Q2grid()**0.5\n",
    "Qmin = np.min(Qgrid)\n",
    "Qmax = np.max(Qgrid)\n",
    "mu = 0.\n",
    "md = 0.\n",
    "ms = 0.\n",
    "mc = jamFF.mc2**0.5\n",
    "mb = jamFF.mb2**0.5\n",
    "mt = jamFF.mt2**0.5\n",
    "mZ = jamFF.mZ2**0.5\n",
    "\n",
    "# Creates the momentum fraction grid (ygrid), and Q-scale grid (Rgrid)\n",
    "# that can be different from JAM grids, in principle\n",
    "\n",
    "#a=0.7\n",
    "  #d=100.\n",
    "  #min,ymax = log_grid(xgrid[0],a,d),log_grid(xgrid[-1],a,d)\n",
    "  #y=np.linspace(ymin,ymax,len(xgrid))\n",
    "  #ygrid = inv_log_grid(y,a,d)\n",
    "ygrid=xgrid\n",
    "\n",
    "  #Rmin,Rmax=np.log(Qgrid[0]),np.log(Qgrid[-1])\n",
    "  #nQ2=100\n",
    "  #R = np.linspace(Rmin,Rmax,nQ2)\n",
    "  #Rgrid = np.exp(R)\n",
    "Rgrid = Qgrid"
   ]
  },
  {
   "cell_type": "code",
   "execution_count": null,
   "metadata": {
    "collapsed": true
   },
   "outputs": [],
   "source": [
    "writeinfo()"
   ]
  },
  {
   "cell_type": "code",
   "execution_count": null,
   "metadata": {
    "collapsed": true
   },
   "outputs": [],
   "source": [
    "writedat(1)"
   ]
  },
  {
   "cell_type": "code",
   "execution_count": null,
   "metadata": {
    "collapsed": false
   },
   "outputs": [],
   "source": [
    "# CREATE THE GRIDS\n",
    "\n",
    "create_LHAPDF_grid(setname)"
   ]
  },
  {
   "cell_type": "code",
   "execution_count": null,
   "metadata": {
    "collapsed": true
   },
   "outputs": [],
   "source": []
  }
 ],
 "metadata": {
  "kernelspec": {
   "display_name": "Python 2",
   "language": "python2",
   "name": "python2"
  },
  "language_info": {
   "codemirror_mode": {
    "name": "ipython",
    "version": 2
   },
   "file_extension": ".py",
   "mimetype": "text/x-python",
   "name": "python",
   "nbconvert_exporter": "python",
   "pygments_lexer": "ipython2",
   "version": "2.7.12"
  }
 },
 "nbformat": 4,
 "nbformat_minor": 0
}
