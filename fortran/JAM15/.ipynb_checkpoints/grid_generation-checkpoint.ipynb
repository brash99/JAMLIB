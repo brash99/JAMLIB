{
 "cells": [
  {
   "cell_type": "code",
   "execution_count": null,
   "metadata": {
    "collapsed": false
   },
   "outputs": [],
   "source": [
    "import sys,os\n",
    "import numpy as np\n",
    "import pandas as pd\n",
    "PATH='../../python/'\n",
    "sys.path.append(PATH)  # path of the JAMLIB python folder is located\n",
    "from corelib import JAMLIB\n",
    "from tools import load\n",
    "from scipy.interpolate import RectBivariateSpline"
   ]
  },
  {
   "cell_type": "code",
   "execution_count": null,
   "metadata": {
    "collapsed": false
   },
   "outputs": [],
   "source": [
    "flav=['up','dp','sp','cp','bp','g']\n",
    "cnt=0\n",
    "for filename in os.listdir('../../python/JAM15/PPDF'):\n",
    "  table=load('../../python/JAM15/PPDF/'+filename)\n",
    "  output = open('PPDF/'+filename,'w')\n",
    "  sys.stdout = output\n",
    "  X = table['X']\n",
    "  Q2 = table['Q2']\n",
    "  Xknots=['%10.4e'%RectBivariateSpline(X,Q2,table['ppdf']['up']).get_knots()[0][i] for i in range(104)]\n",
    "  Q2knots=['%10.4e'%RectBivariateSpline(X,Q2,table['ppdf']['up']).get_knots()[1][i] for i in range(34)]\n",
    "  print ' '.join(Xknots)\n",
    "  print ' '.join(Q2knots)\n",
    "  for f in flav:\n",
    "    coeffs=['%12.5e'%RectBivariateSpline(X,Q2,table['ppdf'][f]).get_coeffs()[i] for i in range(3000)]\n",
    "    print ' '.join(coeffs)\n",
    "  output.close()"
   ]
  },
  {
   "cell_type": "code",
   "execution_count": null,
   "metadata": {
    "collapsed": true
   },
   "outputs": [],
   "source": []
  }
 ],
 "metadata": {
  "kernelspec": {
   "display_name": "Python 2",
   "language": "python",
   "name": "python2"
  },
  "language_info": {
   "codemirror_mode": {
    "name": "ipython",
    "version": 2
   },
   "file_extension": ".py",
   "mimetype": "text/x-python",
   "name": "python",
   "nbconvert_exporter": "python",
   "pygments_lexer": "ipython2",
   "version": "2.7.10"
  }
 },
 "nbformat": 4,
 "nbformat_minor": 0
}
