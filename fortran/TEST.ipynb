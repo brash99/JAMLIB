{
 "cells": [
  {
   "cell_type": "code",
   "execution_count": 1,
   "metadata": {
    "collapsed": false
   },
   "outputs": [],
   "source": [
    "import sys,os\n",
    "import numpy as np\n",
    "import pylab as py\n",
    "import pandas as pd\n",
    "import jam16ff\n",
    "from jam16ff import get_zf\n",
    "PATH='../python/'\n",
    "sys.path.append(PATH)  # path of the JAMLIB python folder is located\n",
    "from corelib import JAMLIB\n",
    "from tools import load,checkdir\n",
    "%matplotlib inline"
   ]
  },
  {
   "cell_type": "code",
   "execution_count": 2,
   "metadata": {
    "collapsed": false
   },
   "outputs": [
    {
     "name": "stdout",
     "output_type": "stream",
     "text": [
      "########################################################## \n",
      "                                                           \n",
      "     _   _    __  __ _     ___ ____                        \n",
      "    | | / \\  |  \\/  | |   |_ _| __ )                       \n",
      " _  | |/ _ \\ | |\\/| | |    | ||  _ \\                       \n",
      "| |_| / ___ \\| |  | | |___ | || |_) |                      \n",
      " \\___/_/   \\_\\_|  |_|_____|___|____/                       \n",
      "                                                           \n",
      "~~~~~~~~~~~~~~~~~~~~~~~~~~~~~~~~~~~~~~~~~~~~~~~~~~~~~~~~~~ \n",
      "                                                           \n",
      "Authors:                                                   \n",
      "Nobuo Sato         (Jefferson Lab)                         \n",
      "Jake Ethier        (College of William and Mary)           \n",
      "Wally Melnitchouk  (Jefferson Lab)                         \n",
      "Alberto Accardi    (Hampton University and Jefferson Lab)  \n",
      "########################################################## \n",
      "loading tables [100%]\n"
     ]
    }
   ],
   "source": [
    "## posterior for LHAPDF corresponds to posterior \n",
    "## of PYTHON + 1 since 0th posterior in LHAPDF is central value\n",
    "\n",
    "ipos=0\n",
    "#ipos_LHAPDF=ipos_PYTHON+1\n",
    "\n",
    "##Load grids##\n",
    "\n",
    "jam16ff.grid_init('pion',ipos)\n",
    "jamlib=JAMLIB(PATH+'JAM16/FFpion')\n",
    "#data=pd.read_excel('JAM16FF_pi_0001.xlsx')"
   ]
  },
  {
   "cell_type": "code",
   "execution_count": 66,
   "metadata": {
    "collapsed": false
   },
   "outputs": [
    {
     "data": {
      "text/plain": [
       "[0.05, 1.0, 0.0, 2]"
      ]
     },
     "execution_count": 66,
     "metadata": {},
     "output_type": "execute_result"
    },
    {
     "data": {
      "image/png": "[encoded data removed]",
      "text/plain": [
       "<matplotlib.figure.Figure at 0x10b0bbbd0>"
      ]
     },
     "metadata": {},
     "output_type": "display_data"
    }
   ],
   "source": [
    "Z=np.linspace(0.05,1.,100)\n",
    "Q2=np.sqrt(100)\n",
    "#grid=np.zeros(len(Z))\n",
    "#for iz in range(len(Z)):\n",
    "  #in1 = 30*(iz)\n",
    "  #grid[iz]=data['Ddp'][in1]\n",
    "  \n",
    "Dup = np.array([get_zf('cp',z,Q2) for z in Z])\n",
    "NS_Dup = np.array([jamlib.get_XF(ipos,'cp',z,Q2) for z in Z])\n",
    "\n",
    "py.plot(Z,Dup,'r-')\n",
    "py.plot(Z,NS_Dup,'b-')\n",
    "#py.plot(Z,Dup/NS_Dup,'r-')\n",
    "py.axis([0.05,1.,0.,2])"
   ]
  },
  {
   "cell_type": "code",
   "execution_count": null,
   "metadata": {
    "collapsed": false
   },
   "outputs": [],
   "source": [
    "cnt=0\n",
    "for f in os.listdir('FFpion_python'):\n",
    "  table=load('../fortran/FFpion_python/'+f)\n",
    "  output = open('FFpion_fortran/'+f,'w')\n",
    "  sys.stdout = output\n",
    "  xvals=['%10.4e' %table['X'][i] for i in range(100)]\n",
    "  print (' '.join(xvals))\n",
    "  Q2vals=['%10.4e' %np.sqrt(table['Q2'][i]) for i in range(30)]\n",
    "  print(' '.join(Q2vals))\n",
    "  for i in range(100):\n",
    "    for j in range(30):\n",
    "      if Q2\n",
    "      print('{0:5e} {1:5e} {2:5e} {3:5e} {4:5e} {5:5e}'.format(table['FFpion']['dp'][i,j],table['FFpion']['up'][i,j],\\\n",
    "                                                          table['FFpion']['sp'][i,j],table['FFpion']['cp'][i,j],\\\n",
    "                                                           table['FFpion']['bp'][i,j],table['FFpion']['g'][i,j]))\n",
    "  output.close()"
   ]
  },
  {
   "cell_type": "code",
   "execution_count": null,
   "metadata": {
    "collapsed": true
   },
   "outputs": [],
   "source": []
  }
 ],
 "metadata": {
  "kernelspec": {
   "display_name": "Python 2",
   "language": "python",
   "name": "python2"
  },
  "language_info": {
   "codemirror_mode": {
    "name": "ipython",
    "version": 2
   },
   "file_extension": ".py",
   "mimetype": "text/x-python",
   "name": "python",
   "nbconvert_exporter": "python",
   "pygments_lexer": "ipython2",
   "version": "2.7.9"
  }
 },
 "nbformat": 4,
 "nbformat_minor": 0
}
