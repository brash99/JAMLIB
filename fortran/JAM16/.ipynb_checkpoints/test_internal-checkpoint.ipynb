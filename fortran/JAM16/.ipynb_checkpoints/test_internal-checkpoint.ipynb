{
 "cells": [
  {
   "cell_type": "code",
   "execution_count": 2,
   "metadata": {
    "collapsed": false
   },
   "outputs": [],
   "source": [
    "import sys,os\n",
    "import numpy as np\n",
    "import pylab as py\n",
    "import pandas as pd\n",
    "import jam16ff\n",
    "from jam16ff import get_zf\n",
    "PATH='../../python/'\n",
    "sys.path.append(PATH)  # path of the JAMLIB python folder is located\n",
    "from corelib import JAMLIB\n",
    "from tools import load,checkdir\n",
    "from scipy.interpolate import RectBivariateSpline\n",
    "%matplotlib inline"
   ]
  },
  {
   "cell_type": "code",
   "execution_count": null,
   "metadata": {
    "collapsed": false
   },
   "outputs": [],
   "source": [
    "## posterior for LHAPDF corresponds to posterior \n",
    "## of PYTHON + 1 since 0th posterior in LHAPDF is central value\n",
    "\n",
    "ipos=0\n",
    "#ipos_LHAPDF=ipos_PYTHON+1\n",
    "\n",
    "##Load grids##\n",
    "\n",
    "jam16ff.grid_init('pion',ipos)\n",
    "jamlib=JAMLIB(PATH+'JAM16/FFpion')\n",
    "#data=pd.read_excel('JAM16FF_pi_0001.xlsx')"
   ]
  },
  {
   "cell_type": "code",
   "execution_count": 14,
   "metadata": {
    "collapsed": false
   },
   "outputs": [
    {
     "data": {
      "text/plain": [
       "[0.05, 1.0, 0.0, 2]"
      ]
     },
     "execution_count": 14,
     "metadata": {},
     "output_type": "execute_result"
    },
    {
     "data": {
      "image/png": "[encoded data removed]",
      "text/plain": [
       "<matplotlib.figure.Figure at 0x1071de650>"
      ]
     },
     "metadata": {},
     "output_type": "display_data"
    }
   ],
   "source": [
    "Z=np.linspace(0.05,1.,20)\n",
    "Q2=2.\n",
    "\n",
    "#grid=np.zeros(len(Z))\n",
    "#for iz in range(len(Z)):\n",
    "  #in1 = 30*(iz)\n",
    "  #grid[iz]=data['Ddp'][in1]\n",
    "  \n",
    "Dup = np.array([get_zf('up',z,Q2) for z in Z])\n",
    "NS_Dup = np.array([jamlib.get_XF(ipos,'up',z,Q2) for z in Z])\n",
    "\n",
    "py.plot(Z,Dup,'r-')\n",
    "py.plot(Z,NS_Dup,'b-')\n",
    "#py.plot(Z,Dup/NS_Dup,'r-')\n",
    "py.axis([0.05,1.,0.,2])"
   ]
  },
  {
   "cell_type": "code",
   "execution_count": null,
   "metadata": {
    "collapsed": false
   },
   "outputs": [
    {
     "name": "stderr",
     "output_type": "stream",
     "text": [
      "ERROR:tornado.general:Uncaught exception, closing connection.\n",
      "Traceback (most recent call last):\n",
      "  File \"/usr/local/lib/python2.7/site-packages/zmq/eventloop/zmqstream.py\", line 407, in _run_callback\n",
      "    callback(*args, **kwargs)\n",
      "  File \"/usr/local/lib/python2.7/site-packages/tornado/stack_context.py\", line 275, in null_wrapper\n",
      "    return fn(*args, **kwargs)\n",
      "  File \"/usr/local/lib/python2.7/site-packages/ipykernel/kernelbase.py\", line 260, in dispatcher\n",
      "    return self.dispatch_shell(stream, msg)\n",
      "  File \"/usr/local/lib/python2.7/site-packages/ipykernel/kernelbase.py\", line 218, in dispatch_shell\n",
      "    sys.stdout.flush()\n",
      "ValueError: I/O operation on closed file\n",
      "ERROR:tornado.general:Uncaught exception, closing connection.\n",
      "Traceback (most recent call last):\n",
      "  File \"/usr/local/lib/python2.7/site-packages/zmq/eventloop/zmqstream.py\", line 433, in _handle_events\n",
      "    self._handle_recv()\n",
      "  File \"/usr/local/lib/python2.7/site-packages/zmq/eventloop/zmqstream.py\", line 465, in _handle_recv\n",
      "    self._run_callback(callback, msg)\n",
      "  File \"/usr/local/lib/python2.7/site-packages/zmq/eventloop/zmqstream.py\", line 407, in _run_callback\n",
      "    callback(*args, **kwargs)\n",
      "  File \"/usr/local/lib/python2.7/site-packages/tornado/stack_context.py\", line 275, in null_wrapper\n",
      "    return fn(*args, **kwargs)\n",
      "  File \"/usr/local/lib/python2.7/site-packages/ipykernel/kernelbase.py\", line 260, in dispatcher\n",
      "    return self.dispatch_shell(stream, msg)\n",
      "  File \"/usr/local/lib/python2.7/site-packages/ipykernel/kernelbase.py\", line 218, in dispatch_shell\n",
      "    sys.stdout.flush()\n",
      "ValueError: I/O operation on closed file\n",
      "ERROR:tornado.application:Exception in callback None\n",
      "Traceback (most recent call last):\n",
      "  File \"/usr/local/lib/python2.7/site-packages/tornado/ioloop.py\", line 866, in start\n",
      "    handler_func(fd_obj, events)\n",
      "  File \"/usr/local/lib/python2.7/site-packages/tornado/stack_context.py\", line 275, in null_wrapper\n",
      "    return fn(*args, **kwargs)\n",
      "  File \"/usr/local/lib/python2.7/site-packages/zmq/eventloop/zmqstream.py\", line 433, in _handle_events\n",
      "    self._handle_recv()\n",
      "  File \"/usr/local/lib/python2.7/site-packages/zmq/eventloop/zmqstream.py\", line 465, in _handle_recv\n",
      "    self._run_callback(callback, msg)\n",
      "  File \"/usr/local/lib/python2.7/site-packages/zmq/eventloop/zmqstream.py\", line 407, in _run_callback\n",
      "    callback(*args, **kwargs)\n",
      "  File \"/usr/local/lib/python2.7/site-packages/tornado/stack_context.py\", line 275, in null_wrapper\n",
      "    return fn(*args, **kwargs)\n",
      "  File \"/usr/local/lib/python2.7/site-packages/ipykernel/kernelbase.py\", line 260, in dispatcher\n",
      "    return self.dispatch_shell(stream, msg)\n",
      "  File \"/usr/local/lib/python2.7/site-packages/ipykernel/kernelbase.py\", line 218, in dispatch_shell\n",
      "    sys.stdout.flush()\n",
      "ValueError: I/O operation on closed file\n"
     ]
    }
   ],
   "source": [
    "for filename in os.listdir('../python/JAM15/PPDF'):\n",
    "  table=load('../python/JAM15/PPDF/'+filename)\n",
    "  output = open('JAM15/PPDF/'+filename,'w')\n",
    "  sys.stdout = output\n",
    "  X = table['X']\n",
    "  Q2 = table['Q2']\n",
    "  Xknots=['%10.4e'%RectBivariateSpline(X,Q2,table['FFpion']['up']).get_knots()[0][i] for i in range(104)]\n",
    "  Q2knots=['%10.4e'%RectBivariateSpline(X,Q2,table['FFpion']['up']).get_knots()[1][i] for i in range(34)]\n",
    "  print ' '.join(Xknots)\n",
    "  print ' '.join(Q2knots)\n",
    "  for f in flav:\n",
    "    coeffs=['%12.5e'%RectBivariateSpline(X,Q2,table['FFpion'][f]).get_coeffs()[i] for i in range(3000)]\n",
    "    print ' '.join(coeffs)\n",
    "  output.close()"
   ]
  },
  {
   "cell_type": "code",
   "execution_count": null,
   "metadata": {
    "collapsed": true
   },
   "outputs": [],
   "source": []
  }
 ],
 "metadata": {
  "kernelspec": {
   "display_name": "Python 2",
   "language": "python",
   "name": "python2"
  },
  "language_info": {
   "codemirror_mode": {
    "name": "ipython",
    "version": 2
   },
   "file_extension": ".py",
   "mimetype": "text/x-python",
   "name": "python",
   "nbconvert_exporter": "python",
   "pygments_lexer": "ipython2",
   "version": "2.7.10"
  }
 },
 "nbformat": 4,
 "nbformat_minor": 0
}
