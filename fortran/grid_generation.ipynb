{
 "cells": [
  {
   "cell_type": "code",
   "execution_count": 1,
   "metadata": {
    "collapsed": false
   },
   "outputs": [],
   "source": [
    "import sys,os\n",
    "import numpy as np\n",
    "import pandas as pd\n",
    "PATH='../python/'\n",
    "sys.path.append(PATH)  # path of the JAMLIB python folder is located\n",
    "from corelib import JAMLIB\n",
    "from tools import load\n",
    "from scipy.interpolate import RectBivariateSpline"
   ]
  },
  {
   "cell_type": "code",
   "execution_count": null,
   "metadata": {
    "collapsed": false
   },
   "outputs": [],
   "source": [
    "flav=['up','dp','sp','cp','bp','g']\n",
    "#flav=['u','d']\n",
    "#flav=['proton','neutron']\n",
    "dist='FFpion'\n",
    "cnt=0\n",
    "for filename in os.listdir('../python/JAM16/'+dist):\n",
    "  table=load('../python/JAM16/'+dist+'/'+filename)\n",
    "  output = open('JAM16/'+dist+'/'+filename,'w')\n",
    "  sys.stdout = output\n",
    "  X = table['X']\n",
    "  Q2 = table['Q2']\n",
    "  lenX = len(RectBivariateSpline(X,Q2,table[dist][flav[0]]).get_knots()[0])\n",
    "  lenQ2 = len(RectBivariateSpline(X,Q2,table[dist][flav[0]]).get_knots()[1])\n",
    "  lenC = len(RectBivariateSpline(X,Q2,table[dist][flav[0]]).get_coeffs())\n",
    "  Xknots=['%10.4e'%RectBivariateSpline(X,Q2,table[dist][flav[0]]).get_knots()[0][i] for i in range(lenX)]\n",
    "  Q2knots=['%10.4e'%RectBivariateSpline(X,Q2,table[dist][flav[0]]).get_knots()[1][i] for i in range(lenQ2)]\n",
    "  print ' '.join(Xknots)\n",
    "  print ' '.join(Q2knots)\n",
    "  for f in flav:\n",
    "    coeffs=['%12.5e'%RectBivariateSpline(X,Q2,table[dist][f]).get_coeffs()[i] for i in range(lenC)]\n",
    "    print ' '.join(coeffs)\n",
    "  output.close()"
   ]
  },
  {
   "cell_type": "code",
   "execution_count": null,
   "metadata": {
    "collapsed": true
   },
   "outputs": [],
   "source": []
  }
 ],
 "metadata": {
  "kernelspec": {
   "display_name": "Python 2",
   "language": "python",
   "name": "python2"
  },
  "language_info": {
   "codemirror_mode": {
    "name": "ipython",
    "version": 2
   },
   "file_extension": ".py",
   "mimetype": "text/x-python",
   "name": "python",
   "nbconvert_exporter": "python",
   "pygments_lexer": "ipython2",
   "version": "2.7.10"
  }
 },
 "nbformat": 4,
 "nbformat_minor": 0
}
